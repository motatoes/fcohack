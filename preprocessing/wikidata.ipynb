{
 "cells": [
  {
   "cell_type": "code",
   "execution_count": 8,
   "metadata": {},
   "outputs": [],
   "source": [
    "import hashlib\n",
    "\n",
    "# convert a P18 wiki entry to another entry\n",
    "filename = \"Junior-Jaguar-Belize-Zoo.jpg\"\n",
    "filename = filename.replace(\" \", \"_\")\n",
    "\n",
    "filename_md5 = hashlib.md5(filename.encode(\"utf-8\")).hexdigest()\n",
    "\n",
    "filename_url = \"https://upload.wikimedia.org/wikipedia/commons/{first}/{first}{second}/{filename}\" \\\n",
    "                    .format(first=filename_md5[0], second=filename_md5[1], filename=filename)"
   ]
  },
  {
   "cell_type": "code",
   "execution_count": 9,
   "metadata": {},
   "outputs": [
    {
     "data": {
      "text/plain": [
       "'https://upload.wikimedia.org/wikipedia/commons/2/21/Junior-Jaguar-Belize-Zoo.jpg'"
      ]
     },
     "execution_count": 9,
     "metadata": {},
     "output_type": "execute_result"
    }
   ],
   "source": [
    "filename_url"
   ]
  },
  {
   "cell_type": "code",
   "execution_count": 20,
   "metadata": {},
   "outputs": [
    {
     "data": {
      "text/plain": [
       "'Judith Gough.jpg'"
      ]
     },
     "execution_count": 20,
     "metadata": {},
     "output_type": "execute_result"
    }
   ],
   "source": [
    "#get entity data from id\n",
    "\n",
    "import json\n",
    "import requests\n",
    "\n",
    "# https://www.wikidata.org/wiki/Special:EntityData/Q21662922.json\n",
    "entityID = \"Q21662922\"\n",
    "url = \"https://www.wikidata.org/wiki/Special:EntityData/{}.json\".format(entityID)\n",
    "\n",
    "response = requests.get(url)\n",
    "\n",
    "content = json.loads(response.content)\n",
    "content[\"entities\"][entityID][\"claims\"][\"P18\"][0][\"mainsnak\"][\"datavalue\"][\"value\"]"
   ]
  },
  {
   "cell_type": "code",
   "execution_count": 87,
   "metadata": {},
   "outputs": [
    {
     "data": {
      "text/plain": [
       "454513"
      ]
     },
     "execution_count": 87,
     "metadata": {},
     "output_type": "execute_result"
    }
   ],
   "source": [
    "# refactor the sparql data\n",
    "\n",
    "import json\n",
    "\n",
    "content = json.loads(open('fcoapi/wikidata/ambassadors_latest.json').read())\n",
    "result = {\n",
    "    \n",
    "}\n",
    "\n",
    "bindings = content[\"results\"][\"bindings\"]\n",
    "personnames = set()\n",
    "results = {}\n",
    "for row in bindings:\n",
    "    personnames.add(row[\"personLabel\"][\"value\"])\n",
    "    name = row[\"personLabel\"][\"value\"]\n",
    "    results[name] = results.get(name, {})\n",
    "        \n",
    "    results[name][\"person\"] = row[\"person\"]\n",
    "    results[name][\"personLabel\"] = row[\"personLabel\"]\n",
    "    \n",
    "#     results[name][\"positionLabel\"] = row.get(\"positionLabel\", {\"value\": \"\"})\n",
    "    results[name][\"birthyear\"] = row.get(\"startyear\", {\"value\": \"\"})\n",
    "    results[name][\"endyear\"] = row.get(\"startyear\", {\"value\": \"\"})\n",
    "    results[name][\"startyear\"] = row.get(\"startyear\", {\"value\": \"\"})\n",
    "    results[name][\"endyear\"] = row.get(\"endyear\", {\"value\": \"\"})\n",
    "    results[name][\"image\"] = row.get(\"image\", {\"value\": \"\"})\n",
    "    \n",
    "    if not \"positionLabels\" in results[name]:\n",
    "        results[name][\"positionLabels\"] = []#row.get(\"otherPositions\", [])\n",
    "    \n",
    "    if not \"otherPositions\" in results[name]:\n",
    "        results[name][\"otherPositions\"] = []#row.get(\"otherPositions\", [])\n",
    "\n",
    "        \n",
    "    if row.get(\"otherpositionLabel\"):\n",
    "        results[name][\"otherPositions\"].append({\n",
    "            \"label\": row.get(\"otherpositionLabel\"),\n",
    "            \"startyear\": row.get(\"otherstartyear\", \"\"),\n",
    "            \"endyear\": row.get(\"otherendyear\", \"\")\n",
    "        })\n",
    "    \n",
    "    if row.get(\"positionLabel\"):\n",
    "        results[name][\"positionLabels\"].append({\n",
    "            \"positionLabel\": row[\"positionLabel\"],\n",
    "            \"startyear\": row.get(\"startyear\", \"\"),\n",
    "            \"endyear\": row.get(\"endyear\", \"\")\n",
    "        })\n",
    "\n",
    "newentries = {}\n",
    "newentries[\"results\"] = {}\n",
    "newentries[\"results\"][\"bindings\"] = []\n",
    "for key in results:\n",
    "    newentries[\"results\"][\"bindings\"].append(results[key])\n",
    "\n",
    "x = json.dumps(newentries, indent=2)\n",
    "open(\"result.json\", 'w').write(x)"
   ]
  },
  {
   "cell_type": "code",
   "execution_count": null,
   "metadata": {},
   "outputs": [],
   "source": [
    "sadfds"
   ]
  }
 ],
 "metadata": {
  "kernelspec": {
   "display_name": "Python 3",
   "language": "python",
   "name": "python3"
  },
  "language_info": {
   "codemirror_mode": {
    "name": "ipython",
    "version": 3
   },
   "file_extension": ".py",
   "mimetype": "text/x-python",
   "name": "python",
   "nbconvert_exporter": "python",
   "pygments_lexer": "ipython3",
   "version": "3.6.4"
  }
 },
 "nbformat": 4,
 "nbformat_minor": 2
}

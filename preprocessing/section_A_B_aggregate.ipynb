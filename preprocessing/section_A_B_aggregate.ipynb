{
 "cells": [
  {
   "cell_type": "code",
   "execution_count": 1,
   "metadata": {},
   "outputs": [],
   "source": [
    "import json\n",
    "\n",
    "section_a = json.loads(open('section_a.json').read())\n",
    "section_b = json.loads(open('section_b.json').read())"
   ]
  },
  {
   "cell_type": "code",
   "execution_count": 23,
   "metadata": {},
   "outputs": [
    {
     "name": "stdout",
     "output_type": "stream",
     "text": [
      "3684 3750\n"
     ]
    }
   ],
   "source": [
    "section_a_lnames = set()\n",
    "section_b_lnames = set()\n",
    "for row in section_a:\n",
    "    section_a_names.add(row[\"persname\"])\n",
    "#     print(row[\"persname\"])\n",
    "\n",
    "for region in section_b: \n",
    "    for regrow in section_b[region]:\n",
    "        section_b_names.add(regrow[\"persName\"])\n",
    "#         print(regrow[\"persName\"])\n",
    "\n",
    "print(len(section_a_names), len(section_b_names))\n",
    "\n",
    "\n",
    "# print (section_b.keys())"
   ]
  },
  {
   "cell_type": "code",
   "execution_count": 13,
   "metadata": {},
   "outputs": [
    {
     "data": {
      "text/plain": [
       "{'persName': 'Sir Geoffrey G. Whiskard',\n",
       " 'date': ['1936-1941'],\n",
       " 'roleName': ['K.C.B.', 'K.C.M.G.']}"
      ]
     },
     "execution_count": 13,
     "metadata": {},
     "output_type": "execute_result"
    }
   ],
   "source": [
    "regrow"
   ]
  },
  {
   "cell_type": "code",
   "execution_count": null,
   "metadata": {},
   "outputs": [],
   "source": []
  }
 ],
 "metadata": {
  "kernelspec": {
   "display_name": "Python 3",
   "language": "python",
   "name": "python3"
  },
  "language_info": {
   "codemirror_mode": {
    "name": "ipython",
    "version": 3
   },
   "file_extension": ".py",
   "mimetype": "text/x-python",
   "name": "python",
   "nbconvert_exporter": "python",
   "pygments_lexer": "ipython3",
   "version": "3.6.4"
  }
 },
 "nbformat": 4,
 "nbformat_minor": 2
}
